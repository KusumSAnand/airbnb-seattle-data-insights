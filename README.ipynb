{
 "cells": [
  {
   "cell_type": "markdown",
   "metadata": {},
   "source": [
    "# Insight into Seattle Airbnb listings  \n",
    "\n",
    "## Table of Contents\n",
    "- [Overview](#overview)\n",
    "- [Software Requirements](#software)\n",
    "- [Summary of files](#deliverables)\n",
    "- [Results](#summmary)\n",
    "- [References](#acknowledgments)\n",
    "\n"
   ]
  },
  {
   "cell_type": "markdown",
   "metadata": {},
   "source": [
    "<a id='Overview'></a>\n",
    "## Overview"
   ]
  },
  {
   "cell_type": "markdown",
   "metadata": {},
   "source": [
    "The project illustrates the cross-industry process for data mining ie. CRISP-DM using Seattle AirBNB dataset. The objective of the analysis and modeling of the dataset is to gain insights on the following -\n",
    "\n",
    "1. Listings growth over the years in various neighbourhoods of Seattle.\n",
    "2. Identify neighbourhoods :\n",
    "    2a. Favoured by the guests.\n",
    "    2b. Distinct neighbourhoods in terms of pricing and ratings. \n",
    "3. What times of the year,do we see availability at best pricings.\n",
    "4. Features that influence the property pricing.\n",
    "\n",
    "The process structure for wrangling, modeling and deploying of the results is as below -\n",
    "    \n",
    "  * Overview\n",
    "  * Business Understanding\n",
    "  * Data Understanding\n",
    "  * Data Preparation\n",
    "  * Data Modeling and Evaluation\n",
    "  * Deployment"
   ]
  },
  {
   "cell_type": "markdown",
   "metadata": {},
   "source": [
    "<a id='software'></a>\n",
    "## Software Requirements\n",
    "\n"
   ]
  },
  {
   "cell_type": "markdown",
   "metadata": {},
   "source": [
    "This project requires Python 3.x and following Python libraries installed:\n",
    "\n",
    "    numPy\n",
    "    pandas\n",
    "    scikit-learn\n",
    "    matplotlib\n",
    "    xgboost\n",
    "    seaborn\n",
    "    statsmodels\n",
    "    calmap"
   ]
  },
  {
   "cell_type": "markdown",
   "metadata": {},
   "source": [
    "<a id='deliverables'></a>\n",
    "## Summary of files "
   ]
  },
  {
   "cell_type": "markdown",
   "metadata": {},
   "source": [
    "**Data files**\n",
    "\n",
    " 1. *calendar.csv*      365 days availability schedule for all listings along with pricing.\n",
    "   \n",
    " 2. *listings.csv* Main file which holds the listings data of the hosts.\n",
    "\n",
    "**Jupyter notebook code file for data analyis and modeling**\n",
    "\n",
    "Analysis of Seattle airbnb listings.ipynb\n",
    "\n",
    "**Intermittant files from analysis**\n",
    "\n",
    "abs_listings_final.csv\n",
    "\n",
    "abs_listings_model.csv\n",
    "\n",
    "**Analysis Report**\n",
    "\n",
    "Analysis of Seattle airbnb listings.html\n",
    "\n",
    "README.md"
   ]
  },
  {
   "cell_type": "markdown",
   "metadata": {},
   "source": [
    "<a id='summary'></a>\n",
    "## Results \n",
    "\n",
    "Results and insights have been collated as a blog. Objectives addressed from the analysis and modeling -\n",
    "\n",
    "1. Visualizing the linear relationship between Price vs review related columns and listings_count, we see that medium to low priced listings have garnered higher reviews with mostly high review ratings.\n",
    "2. Superhosts perform better in all parameters of review rating.\n",
    "3. Listings growth over the years\n",
    "4. Concentration of multiple listings in the neighbourhood groups.\n",
    "5. How are the neighbourhoods doing in terms of listing counts and review rating\n",
    "6. Price and review scores rating influence on neighbourhood groups\n",
    "7. Property available for rent for all 365 days /year across neighbourhoods in terms of listings count\n",
    "8. Availability based on review ratings across neighbourhoods\n",
    "9. Availability based on review ratings across neighbourhoods\n",
    "10.Availabilty of property type and their pricing\n",
    "11. Availabilty and Price across the 4 quarters across neighbourhoods"
   ]
  },
  {
   "cell_type": "markdown",
   "metadata": {},
   "source": [
    "<a id='acknowledgements'></a>\n",
    "## References \n",
    "\n",
    "https://www.airbnb.co.in\n",
    "\n",
    "https://www.sv-europe.com/crisp-dm-methodology/#evaluation\n",
    "\n",
    "https://www.datasciencecentral.com/profiles/blogs/crisp-dm-a-standard-methodology-to-ensure-a-good-outcome\n",
    "\n",
    "https://xgboost.readthedocs.io/en/latest/python/python_api.html\n",
    "\n",
    "https://datascience.stackexchange.com/questions/34209/xgboost-quantifying-feature-importances\n",
    "\n",
    "http://www.grroups.com/blog/an-information-gain-based-feature-ranking-function-for-xgboost\n",
    "\n",
    "https://datascience.stackexchange.com/questions/12318/how-to-interpret-the-output-of-xgboost-importance\n",
    "\n",
    "https://www.visitseattle.org/neighborhoods\n",
    "\n",
    "https://www.neighborhoodscout.com/\n",
    "\n",
    "https://www.niche.com\n",
    "\n",
    "https://en.wikipedia.org/wiki/"
   ]
  }
 ],
 "metadata": {
  "anaconda-cloud": {},
  "kernelspec": {
   "display_name": "Python [conda env:udacity_ipnd]",
   "language": "python",
   "name": "conda-env-udacity_ipnd-py"
  },
  "language_info": {
   "codemirror_mode": {
    "name": "ipython",
    "version": 3
   },
   "file_extension": ".py",
   "mimetype": "text/x-python",
   "name": "python",
   "nbconvert_exporter": "python",
   "pygments_lexer": "ipython3",
   "version": "3.6.7"
  }
 },
 "nbformat": 4,
 "nbformat_minor": 2
}
